{
 "cells": [
  {
   "cell_type": "code",
   "execution_count": 118,
   "metadata": {},
   "outputs": [
    {
     "data": {
      "text/html": [
       "<div>\n",
       "<style scoped>\n",
       "    .dataframe tbody tr th:only-of-type {\n",
       "        vertical-align: middle;\n",
       "    }\n",
       "\n",
       "    .dataframe tbody tr th {\n",
       "        vertical-align: top;\n",
       "    }\n",
       "\n",
       "    .dataframe thead th {\n",
       "        text-align: right;\n",
       "    }\n",
       "</style>\n",
       "<table border=\"1\" class=\"dataframe\">\n",
       "  <thead>\n",
       "    <tr style=\"text-align: right;\">\n",
       "      <th></th>\n",
       "      <th>X</th>\n",
       "      <th>Y</th>\n",
       "    </tr>\n",
       "    <tr>\n",
       "      <th>Label</th>\n",
       "      <th></th>\n",
       "      <th></th>\n",
       "    </tr>\n",
       "  </thead>\n",
       "  <tbody>\n",
       "    <tr>\n",
       "      <th>V1</th>\n",
       "      <td>7</td>\n",
       "      <td>89</td>\n",
       "    </tr>\n",
       "    <tr>\n",
       "      <th>V2</th>\n",
       "      <td>49</td>\n",
       "      <td>60</td>\n",
       "    </tr>\n",
       "    <tr>\n",
       "      <th>V3</th>\n",
       "      <td>51</td>\n",
       "      <td>17</td>\n",
       "    </tr>\n",
       "    <tr>\n",
       "      <th>V4</th>\n",
       "      <td>99</td>\n",
       "      <td>8</td>\n",
       "    </tr>\n",
       "    <tr>\n",
       "      <th>V5</th>\n",
       "      <td>20</td>\n",
       "      <td>19</td>\n",
       "    </tr>\n",
       "    <tr>\n",
       "      <th>V6</th>\n",
       "      <td>81</td>\n",
       "      <td>92</td>\n",
       "    </tr>\n",
       "    <tr>\n",
       "      <th>V7</th>\n",
       "      <td>12</td>\n",
       "      <td>3</td>\n",
       "    </tr>\n",
       "    <tr>\n",
       "      <th>V8</th>\n",
       "      <td>36</td>\n",
       "      <td>59</td>\n",
       "    </tr>\n",
       "  </tbody>\n",
       "</table>\n",
       "</div>"
      ],
      "text/plain": [
       "        X   Y\n",
       "Label        \n",
       "V1      7  89\n",
       "V2     49  60\n",
       "V3     51  17\n",
       "V4     99   8\n",
       "V5     20  19\n",
       "V6     81  92\n",
       "V7     12   3\n",
       "V8     36  59"
      ]
     },
     "execution_count": 118,
     "metadata": {},
     "output_type": "execute_result"
    }
   ],
   "source": [
    "import pandas as pd\n",
    "import matplotlib.pyplot as plt\n",
    "import numpy as np\n",
    "import operator\n",
    "# Array X dan Y diisi dengan nilai random disini contoh saya menggunakan panjang 8\n",
    "Sx = np.random.randint(100, size=8) \n",
    "Sy = np.random.randint(100, size=8)\n",
    "\n",
    "label = ['V'+str(x+1) for x in range(8)]\n",
    "df = pd.DataFrame({\"X\" : Sx, \"Y\" : Sy, \"Label\" : label})\n",
    "df = df.set_index('Label')\n",
    "df"
   ]
  },
  {
   "cell_type": "code",
   "execution_count": 119,
   "metadata": {},
   "outputs": [
    {
     "data": {
      "image/png": "[encoded data removed]",
      "text/plain": [
       "<Figure size 432x288 with 1 Axes>"
      ]
     },
     "metadata": {
      "needs_background": "light"
     },
     "output_type": "display_data"
    }
   ],
   "source": [
    "# Membuat plot\n",
    "plt.plot(Sx, Sy, 'ro')\n",
    "plt.ylabel('Y')\n",
    "plt.xlabel('X')\n",
    "for i in range(len(Sx)):\n",
    "    plt.text(Sx[i], Sy[i], f\"V{i+1} ({Sx[i]},{Sy[i]}) \")\n",
    "plt.show()"
   ]
  },
  {
   "cell_type": "code",
   "execution_count": 110,
   "metadata": {},
   "outputs": [],
   "source": [
    "def solusi(x, y):\n",
    "    S = list(zip(x, y)) # Menghasilkan List yang berisi tuple [(x0,y0),..,(xn,yn)]\n",
    "    Sx = sorted(S, key=lambda x: x[0])  # Mengurutkan List/array berdasarkan sumbu X\n",
    "    Sy = sorted(S, key=lambda x: x[1])  # Mengurutkan List/array berdasarkan sumbu X\n",
    "    titik1, titik2, jarak = closest_pair(Sx, Sy)  # Fungsi rekursif Divide and Conquer\n",
    "    return titik1,titik2,jarak"
   ]
  },
  {
   "cell_type": "code",
   "execution_count": 105,
   "metadata": {},
   "outputs": [],
   "source": [
    "def closest_pair(Sx, Sy):\n",
    "    panjangSx = len(Sx)\n",
    "    if panjangSx <= 3:\n",
    "        return bruteForce(Sx)  # melakukan bruteforce untuk perbandingannya\n",
    "    mid = panjangSx // 2  # Division without remainder, need int\n",
    "    kiriX = Sx[:mid]  # Dibagi menjadi 2 bagian\n",
    "    kananX = Sx[mid:]\n",
    "    # Menentukan titik tengah pada sumbu X\n",
    "    titikTengah = Sx[mid][0]  \n",
    "    kiriY = list()\n",
    "    kananY = list()\n",
    "    for x in Sy:  # Membagi Sy menjadi 2 array menggunakan titik tengah\n",
    "        if x[0] <= titikTengah:\n",
    "           kiriY.append(x)\n",
    "        else:\n",
    "           kananY.append(x)\n",
    "    # Memanggil 2 array secara rekursif setelah dibagi\n",
    "    (p1, q1, jarak1) = closest_pair(kiriX, kiriY)\n",
    "    (p2, q2, jarak2) = closest_pair(kananX, kananY)\n",
    "    # Menentukan jarak terdekat antara dua titik array\n",
    "    if jarak1 <= jarak2:\n",
    "        jarak = jarak1\n",
    "        mn = (p1, q1)\n",
    "    else:\n",
    "        jarak = jarak2\n",
    "        mn = (p2, q2)\n",
    "    # Call function to account for points on the boundary\n",
    "    (p3, q3, jarak3) = closest_split_pair(Sx, Sy, jarak, mn)\n",
    "    # Menentukan jarak terendah pada array\n",
    "    if jarak <= jarak3:\n",
    "        return mn[0], mn[1], jarak\n",
    "    else:\n",
    "        return p3, q3, jarak3"
   ]
  },
  {
   "cell_type": "code",
   "execution_count": 106,
   "metadata": {},
   "outputs": [],
   "source": [
    "def bruteForce(Sx):\n",
    "    jarak = hitungJarak(Sx[0], Sx[1])\n",
    "    titik1 = Sx[0]\n",
    "    titik2 = Sx[1]\n",
    "    panjangSx = len(Sx)\n",
    "    if panjangSx == 2:\n",
    "        return titik1, titik2, jarak\n",
    "    for i in range(panjangSx-1):\n",
    "        for j in range(i + 1, panjangSx):\n",
    "            if i != 0 and j != 1:\n",
    "                jarak2 = hitungJarak(Sx[i], Sx[j])\n",
    "                if jarak2 < jarak:\n",
    "                    jarak = jarak2\n",
    "                    titik1, titik2 = Sx[i], Sx[j]\n",
    "    return titik1, titik2, jarak"
   ]
  },
  {
   "cell_type": "code",
   "execution_count": 107,
   "metadata": {},
   "outputs": [],
   "source": [
    "import math\n",
    "def hitungJarak(titik1, titik2):\n",
    "    return math.sqrt((titik1[0] - titik2[0]) ** 2 + (titik1[1] - titik2[1]) ** 2)"
   ]
  },
  {
   "cell_type": "code",
   "execution_count": 108,
   "metadata": {},
   "outputs": [],
   "source": [
    "def closest_split_pair(Sx, Sy, jrk, best_pair):\n",
    "    panjangSx = len(Sx)\n",
    "    midSx = Sx[panjangSx // 2][0]  # Memilih titik tengah dari array Sx\n",
    "    # Membuat subarray yang berisi titik2 yang tidak jauh dari jrk\n",
    "    # Titik tengah dari Sx\n",
    "    S2y = [x for x in Sy if midSx - jrk <= x[0] <= midSx + jrk]\n",
    "    best = jrk\n",
    "    panjangSy = len(Sy)\n",
    "    for i in range(panjangSy - 1):\n",
    "        for j in range(i+1, min(i + 7, panjangSy)):\n",
    "            p, q = Sy[i], Sy[j]\n",
    "            jarak = hitungJarak(p, q)\n",
    "            if jarak < best:\n",
    "                best_pair = p, q\n",
    "                best = jarak\n",
    "    return best_pair[0], best_pair[1], best"
   ]
  },
  {
   "cell_type": "code",
   "execution_count": 129,
   "metadata": {},
   "outputs": [
    {
     "data": {
      "image/png": "[encoded data removed]",
      "text/plain": [
       "<Figure size 432x288 with 1 Axes>"
      ]
     },
     "metadata": {
      "needs_background": "light"
     },
     "output_type": "display_data"
    },
    {
     "name": "stdout",
     "output_type": "stream",
     "text": [
      "Nilai jarak : 13.038404810405298\n"
     ]
    }
   ],
   "source": [
    "titik1, titik2, jarak = solusi(Sx,Sy)\n",
    "# Membuat garis jarak pada titik terdekat\n",
    "plt.plot(Sx, Sy, 'ro')\n",
    "plt.ylabel('Y')\n",
    "plt.xlabel('X')\n",
    "for i in range(len(Sx)):\n",
    "    plt.text(Sx[i], Sy[i], f\"V{i+1} ({Sx[i]},{Sy[i]}) \")\n",
    "plt.plot([titik1[0], titik2[0]], [titik1[1], titik2[1]])\n",
    "plt.annotate('Jarak terdekat', \n",
    "             xy=(((titik1[0]+titik2[0])/2), ((titik1[1]+titik2[1])/2)),\n",
    "             xytext=(((titik1[0]+titik2[0])/2)+3, ((titik1[1]+titik2[1])/2)+10),\n",
    "             arrowprops=dict(facecolor='black', shrink=0.05),\n",
    "             )\n",
    "plt.show()\n",
    "print(f'Nilai jarak : {jarak}')"
   ]
  }
 ],
 "metadata": {
  "kernelspec": {
   "display_name": "Python 3",
   "language": "python",
   "name": "python3"
  },
  "language_info": {
   "codemirror_mode": {
    "name": "ipython",
    "version": 3
   },
   "file_extension": ".py",
   "mimetype": "text/x-python",
   "name": "python",
   "nbconvert_exporter": "python",
   "pygments_lexer": "ipython3",
   "version": "3.7.3"
  }
 },
 "nbformat": 4,
 "nbformat_minor": 2
}
